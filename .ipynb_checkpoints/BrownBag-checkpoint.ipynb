{
 "cells": [
  {
   "cell_type": "markdown",
   "metadata": {},
   "source": [
    "# Integrating Python with Dynamics"
   ]
  },
  {
   "cell_type": "code",
   "execution_count": 2,
   "metadata": {},
   "outputs": [],
   "source": [
    "#modify the kernal state to display graphs inline\n",
    "%matplotlib inline"
   ]
  },
  {
   "cell_type": "markdown",
   "metadata": {},
   "source": [
    "## Configuration\n",
    "\n",
    "- To follow best practices, create a file called configFile in this directory with the following configuration data.  \n",
    "- This provides additional security to your Dynamics instance as the configFile can be excluded from your repository.  \n",
    "- It also makes this code data-driven, and easy to run on different orgs and instances. Just change the configFile and run!"
   ]
  },
  {
   "cell_type": "code",
   "execution_count": 64,
   "metadata": {},
   "outputs": [
    {
     "name": "stdout",
     "output_type": "stream",
     "text": [
      "Org: q9dev\n"
     ]
    }
   ],
   "source": [
    "config = {\n",
    "    'OrgName': 'q9dev',\n",
    "    'ApplicationID': '9590063a-da35-45b3-9bcb-2f93360e7960',\n",
    "    'DirectoryID': '9f2dad8d-f6b8-4cc0-bca1-c360b0ccb7fc',\n",
    "    'ObjectID': '8fd28301-af87-43d7-bfc0-cfa864df5140',\n",
    "    'ClientSecret': 'n7OL-0X6LyQqB-3ShlhhA.Y.WJtR1w7-uB'\n",
    "}\n",
    "\n",
    "print('Org: ' + config['OrgName'])"
   ]
  },
  {
   "cell_type": "markdown",
   "metadata": {},
   "source": [
    "## Authentication"
   ]
  },
  {
   "cell_type": "code",
   "execution_count": 65,
   "metadata": {},
   "outputs": [],
   "source": [
    "# from configFile import config\n",
    "\n",
    "# !pip install <library>\n",
    "import requests\n",
    "import json"
   ]
  },
  {
   "cell_type": "code",
   "execution_count": 66,
   "metadata": {},
   "outputs": [],
   "source": [
    "orgname = config[\"OrgName\"]\n",
    "clientid = config['ApplicationID']\n",
    "tenantid = config['DirectoryID']\n",
    "secret = config['ClientSecret']"
   ]
  },
  {
   "cell_type": "code",
   "execution_count": 67,
   "metadata": {},
   "outputs": [
    {
     "data": {
      "text/plain": [
       "<Response [200]>"
      ]
     },
     "execution_count": 67,
     "metadata": {},
     "output_type": "execute_result"
    }
   ],
   "source": [
    "oauth2endpoint = f'https://login.microsoftonline.com/{tenantid}/oauth2/token'\n",
    "\n",
    "crmorg = f'https://{orgname}.crm.dynamics.com'\n",
    "\n",
    "tokenpost = {\n",
    "    'client_id': clientid,\n",
    "    'resource': crmorg,\n",
    "    'client_secret': secret,\n",
    "    'grant_type': 'client_credentials'\n",
    "}\n",
    "\n",
    "response = requests.post(oauth2endpoint, data=tokenpost)\n",
    "\n",
    "response"
   ]
  },
  {
   "cell_type": "code",
   "execution_count": 68,
   "metadata": {},
   "outputs": [
    {
     "data": {
      "text/plain": [
       "['token_type',\n",
       " 'expires_in',\n",
       " 'ext_expires_in',\n",
       " 'expires_on',\n",
       " 'not_before',\n",
       " 'resource',\n",
       " 'access_token']"
      ]
     },
     "execution_count": 68,
     "metadata": {},
     "output_type": "execute_result"
    }
   ],
   "source": [
    "data = response.json()\n",
    "\n",
    "[key for key in data]"
   ]
  },
  {
   "cell_type": "code",
   "execution_count": 69,
   "metadata": {},
   "outputs": [
    {
     "name": "stdout",
     "output_type": "stream",
     "text": [
      "Access token retrieved\n"
     ]
    }
   ],
   "source": [
    "token = 'token'\n",
    "try:\n",
    "    token = data['access_token']\n",
    "    print('Access token retrieved')\n",
    "except KeyError:\n",
    "    print('Could not get access token')"
   ]
  },
  {
   "cell_type": "code",
   "execution_count": 70,
   "metadata": {},
   "outputs": [],
   "source": [
    "headers = {\n",
    "    'Authorization': 'Bearer ' + token,\n",
    "    'OData-MaxVersion': '4.0',\n",
    "    'OData-Version': '4.0',\n",
    "    'Accept': 'application/json',\n",
    "    'Content-Type': 'application/json; charset=utf-8',\n",
    "    'Prefer': 'odata.maxpagesize=500',\n",
    "    'Prefer': 'odata.include-annotations=OData.Community.Display.V1.FormattedValue',\n",
    "    'Prefer': 'return=representation'\n",
    "}\n",
    "\n",
    "crmwebapi = f'https://{orgname}.api.crm.dynamics.com/api/data/v9.1'"
   ]
  },
  {
   "cell_type": "markdown",
   "metadata": {},
   "source": [
    "## Reading Data Using OData"
   ]
  },
  {
   "cell_type": "code",
   "execution_count": 13,
   "metadata": {},
   "outputs": [
    {
     "data": {
      "text/plain": [
       "<Response [200]>"
      ]
     },
     "execution_count": 13,
     "metadata": {},
     "output_type": "execute_result"
    }
   ],
   "source": [
    "entity = 'contacts'\n",
    "\n",
    "query = '$select=fullname,contactid'\n",
    "\n",
    "response = requests.get(f'{crmwebapi}/{entity}?{query}', headers=headers)\n",
    "\n",
    "response"
   ]
  },
  {
   "cell_type": "code",
   "execution_count": 14,
   "metadata": {},
   "outputs": [],
   "source": [
    "import pandas as pd\n",
    "from pandas.io.json import json_normalize"
   ]
  },
  {
   "cell_type": "code",
   "execution_count": 15,
   "metadata": {},
   "outputs": [
    {
     "data": {
      "text/html": [
       "<div>\n",
       "<style scoped>\n",
       "    .dataframe tbody tr th:only-of-type {\n",
       "        vertical-align: middle;\n",
       "    }\n",
       "\n",
       "    .dataframe tbody tr th {\n",
       "        vertical-align: top;\n",
       "    }\n",
       "\n",
       "    .dataframe thead th {\n",
       "        text-align: right;\n",
       "    }\n",
       "</style>\n",
       "<table border=\"1\" class=\"dataframe\">\n",
       "  <thead>\n",
       "    <tr style=\"text-align: right;\">\n",
       "      <th></th>\n",
       "      <th>@odata.etag</th>\n",
       "      <th>fullname</th>\n",
       "      <th>contactid</th>\n",
       "    </tr>\n",
       "  </thead>\n",
       "  <tbody>\n",
       "    <tr>\n",
       "      <td>0</td>\n",
       "      <td>W/\"2483896\"</td>\n",
       "      <td>Portal Customer</td>\n",
       "      <td>99db51a2-c34e-e111-bb8d-00155d03a715</td>\n",
       "    </tr>\n",
       "    <tr>\n",
       "      <td>1</td>\n",
       "      <td>W/\"2483902\"</td>\n",
       "      <td>System Administrator</td>\n",
       "      <td>7469fd95-c0bd-4236-90bf-1d1100291df5</td>\n",
       "    </tr>\n",
       "    <tr>\n",
       "      <td>2</td>\n",
       "      <td>W/\"2475509\"</td>\n",
       "      <td>Vincent Lauriant</td>\n",
       "      <td>465b158c-541c-e511-80d3-3863bb347ba8</td>\n",
       "    </tr>\n",
       "    <tr>\n",
       "      <td>3</td>\n",
       "      <td>W/\"2475516\"</td>\n",
       "      <td>Adrian Dumitrascu</td>\n",
       "      <td>49a0e5b9-88df-e311-b8e5-6c3be5a8b200</td>\n",
       "    </tr>\n",
       "    <tr>\n",
       "      <td>4</td>\n",
       "      <td>W/\"2475523\"</td>\n",
       "      <td>Cathan Cook</td>\n",
       "      <td>4ba0e5b9-88df-e311-b8e5-6c3be5a8b200</td>\n",
       "    </tr>\n",
       "    <tr>\n",
       "      <td>5</td>\n",
       "      <td>W/\"2475531\"</td>\n",
       "      <td>Brian LaMee</td>\n",
       "      <td>4da0e5b9-88df-e311-b8e5-6c3be5a8b200</td>\n",
       "    </tr>\n",
       "    <tr>\n",
       "      <td>6</td>\n",
       "      <td>W/\"2475540\"</td>\n",
       "      <td>Walter Harp</td>\n",
       "      <td>4fa0e5b9-88df-e311-b8e5-6c3be5a8b200</td>\n",
       "    </tr>\n",
       "    <tr>\n",
       "      <td>7</td>\n",
       "      <td>W/\"2475547\"</td>\n",
       "      <td>Cat Francis</td>\n",
       "      <td>51a0e5b9-88df-e311-b8e5-6c3be5a8b200</td>\n",
       "    </tr>\n",
       "    <tr>\n",
       "      <td>8</td>\n",
       "      <td>W/\"2475555\"</td>\n",
       "      <td>Forrest Chand</td>\n",
       "      <td>53a0e5b9-88df-e311-b8e5-6c3be5a8b200</td>\n",
       "    </tr>\n",
       "    <tr>\n",
       "      <td>9</td>\n",
       "      <td>W/\"2475562\"</td>\n",
       "      <td>Eva Corets</td>\n",
       "      <td>55a0e5b9-88df-e311-b8e5-6c3be5a8b200</td>\n",
       "    </tr>\n",
       "  </tbody>\n",
       "</table>\n",
       "</div>"
      ],
      "text/plain": [
       "   @odata.etag              fullname                             contactid\n",
       "0  W/\"2483896\"       Portal Customer  99db51a2-c34e-e111-bb8d-00155d03a715\n",
       "1  W/\"2483902\"  System Administrator  7469fd95-c0bd-4236-90bf-1d1100291df5\n",
       "2  W/\"2475509\"      Vincent Lauriant  465b158c-541c-e511-80d3-3863bb347ba8\n",
       "3  W/\"2475516\"     Adrian Dumitrascu  49a0e5b9-88df-e311-b8e5-6c3be5a8b200\n",
       "4  W/\"2475523\"           Cathan Cook  4ba0e5b9-88df-e311-b8e5-6c3be5a8b200\n",
       "5  W/\"2475531\"           Brian LaMee  4da0e5b9-88df-e311-b8e5-6c3be5a8b200\n",
       "6  W/\"2475540\"           Walter Harp  4fa0e5b9-88df-e311-b8e5-6c3be5a8b200\n",
       "7  W/\"2475547\"           Cat Francis  51a0e5b9-88df-e311-b8e5-6c3be5a8b200\n",
       "8  W/\"2475555\"         Forrest Chand  53a0e5b9-88df-e311-b8e5-6c3be5a8b200\n",
       "9  W/\"2475562\"            Eva Corets  55a0e5b9-88df-e311-b8e5-6c3be5a8b200"
      ]
     },
     "execution_count": 15,
     "metadata": {},
     "output_type": "execute_result"
    }
   ],
   "source": [
    "data = response.json()\n",
    "df = json_normalize(data['value'])\n",
    "df.head(10)"
   ]
  },
  {
   "cell_type": "markdown",
   "metadata": {},
   "source": [
    "## Reading Data Using FetchXML"
   ]
  },
  {
   "cell_type": "code",
   "execution_count": 30,
   "metadata": {},
   "outputs": [
    {
     "data": {
      "text/plain": [
       "<Response [200]>"
      ]
     },
     "execution_count": 30,
     "metadata": {},
     "output_type": "execute_result"
    }
   ],
   "source": [
    "entity = 'accounts'\n",
    "\n",
    "fetch = '''\n",
    "<fetch mapping='logical'>   \n",
    "   <entity name='account'>  \n",
    "      <attribute name='accountid'/>   \n",
    "      <attribute name='name'/>   \n",
    "   </entity>  \n",
    "</fetch>\n",
    "'''\n",
    "\n",
    "response = requests.get(f'{crmwebapi}/{entity}?fetchXml={fetch}', headers=headers)\n",
    "\n",
    "response"
   ]
  },
  {
   "cell_type": "code",
   "execution_count": 31,
   "metadata": {},
   "outputs": [
    {
     "data": {
      "text/html": [
       "<div>\n",
       "<style scoped>\n",
       "    .dataframe tbody tr th:only-of-type {\n",
       "        vertical-align: middle;\n",
       "    }\n",
       "\n",
       "    .dataframe tbody tr th {\n",
       "        vertical-align: top;\n",
       "    }\n",
       "\n",
       "    .dataframe thead th {\n",
       "        text-align: right;\n",
       "    }\n",
       "</style>\n",
       "<table border=\"1\" class=\"dataframe\">\n",
       "  <thead>\n",
       "    <tr style=\"text-align: right;\">\n",
       "      <th></th>\n",
       "      <th>@odata.etag</th>\n",
       "      <th>accountid</th>\n",
       "      <th>name</th>\n",
       "    </tr>\n",
       "  </thead>\n",
       "  <tbody>\n",
       "    <tr>\n",
       "      <td>0</td>\n",
       "      <td>W/\"3832419\"</td>\n",
       "      <td>e1d6792d-f13d-eb11-a813-000d3a33ff66</td>\n",
       "      <td>Response Test 2</td>\n",
       "    </tr>\n",
       "    <tr>\n",
       "      <td>1</td>\n",
       "      <td>W/\"3832421\"</td>\n",
       "      <td>8a7382e0-f13d-eb11-a813-000d3a33ff66</td>\n",
       "      <td>Response Test 3</td>\n",
       "    </tr>\n",
       "    <tr>\n",
       "      <td>2</td>\n",
       "      <td>W/\"3833687\"</td>\n",
       "      <td>8af834c6-323e-eb11-a813-000d3a33ff66</td>\n",
       "      <td>This is a brown bag demo</td>\n",
       "    </tr>\n",
       "    <tr>\n",
       "      <td>3</td>\n",
       "      <td>W/\"3833696\"</td>\n",
       "      <td>aa52f8ec-323e-eb11-a813-000d3a33ff66</td>\n",
       "      <td>Brown Bag</td>\n",
       "    </tr>\n",
       "    <tr>\n",
       "      <td>4</td>\n",
       "      <td>W/\"2490741\"</td>\n",
       "      <td>475b158c-541c-e511-80d3-3863bb347ba8</td>\n",
       "      <td>A. Datum</td>\n",
       "    </tr>\n",
       "    <tr>\n",
       "      <td>5</td>\n",
       "      <td>W/\"2490747\"</td>\n",
       "      <td>a8a19cdd-88df-e311-b8e5-6c3be5a8b200</td>\n",
       "      <td>Adventure Works</td>\n",
       "    </tr>\n",
       "    <tr>\n",
       "      <td>6</td>\n",
       "      <td>W/\"2490749\"</td>\n",
       "      <td>aaa19cdd-88df-e311-b8e5-6c3be5a8b200</td>\n",
       "      <td>Alpine Ski House</td>\n",
       "    </tr>\n",
       "    <tr>\n",
       "      <td>7</td>\n",
       "      <td>W/\"2490751\"</td>\n",
       "      <td>aca19cdd-88df-e311-b8e5-6c3be5a8b200</td>\n",
       "      <td>Blue Yonder Airlines</td>\n",
       "    </tr>\n",
       "    <tr>\n",
       "      <td>8</td>\n",
       "      <td>W/\"2490757\"</td>\n",
       "      <td>aea19cdd-88df-e311-b8e5-6c3be5a8b200</td>\n",
       "      <td>City Power &amp; Light</td>\n",
       "    </tr>\n",
       "    <tr>\n",
       "      <td>9</td>\n",
       "      <td>W/\"2490753\"</td>\n",
       "      <td>b0a19cdd-88df-e311-b8e5-6c3be5a8b200</td>\n",
       "      <td>Coho Winery</td>\n",
       "    </tr>\n",
       "  </tbody>\n",
       "</table>\n",
       "</div>"
      ],
      "text/plain": [
       "   @odata.etag                             accountid                      name\n",
       "0  W/\"3832419\"  e1d6792d-f13d-eb11-a813-000d3a33ff66           Response Test 2\n",
       "1  W/\"3832421\"  8a7382e0-f13d-eb11-a813-000d3a33ff66           Response Test 3\n",
       "2  W/\"3833687\"  8af834c6-323e-eb11-a813-000d3a33ff66  This is a brown bag demo\n",
       "3  W/\"3833696\"  aa52f8ec-323e-eb11-a813-000d3a33ff66                 Brown Bag\n",
       "4  W/\"2490741\"  475b158c-541c-e511-80d3-3863bb347ba8                  A. Datum\n",
       "5  W/\"2490747\"  a8a19cdd-88df-e311-b8e5-6c3be5a8b200           Adventure Works\n",
       "6  W/\"2490749\"  aaa19cdd-88df-e311-b8e5-6c3be5a8b200          Alpine Ski House\n",
       "7  W/\"2490751\"  aca19cdd-88df-e311-b8e5-6c3be5a8b200      Blue Yonder Airlines\n",
       "8  W/\"2490757\"  aea19cdd-88df-e311-b8e5-6c3be5a8b200        City Power & Light\n",
       "9  W/\"2490753\"  b0a19cdd-88df-e311-b8e5-6c3be5a8b200               Coho Winery"
      ]
     },
     "execution_count": 31,
     "metadata": {},
     "output_type": "execute_result"
    }
   ],
   "source": [
    "data = response.json()\n",
    "df = json_normalize(data['value'])\n",
    "df.head(10)"
   ]
  },
  {
   "cell_type": "markdown",
   "metadata": {},
   "source": [
    "## Creating Data"
   ]
  },
  {
   "cell_type": "code",
   "execution_count": 83,
   "metadata": {},
   "outputs": [
    {
     "data": {
      "text/plain": [
       "<Response [201]>"
      ]
     },
     "execution_count": 83,
     "metadata": {},
     "output_type": "execute_result"
    }
   ],
   "source": [
    "entity = 'accounts'\n",
    "\n",
    "data = {\n",
    "    'name': 'This is a brown bag demo'\n",
    "}\n",
    "\n",
    "response = requests.post(f'{crmwebapi}/{entity}', json=data, headers=headers)\n",
    "\n",
    "response"
   ]
  },
  {
   "cell_type": "code",
   "execution_count": 84,
   "metadata": {},
   "outputs": [
    {
     "data": {
      "text/plain": [
       "'This is a brown bag demo'"
      ]
     },
     "execution_count": 84,
     "metadata": {},
     "output_type": "execute_result"
    }
   ],
   "source": [
    "data = response.json()\n",
    "data['name']"
   ]
  },
  {
   "cell_type": "markdown",
   "metadata": {},
   "source": [
    "## Updating Data"
   ]
  },
  {
   "cell_type": "code",
   "execution_count": 60,
   "metadata": {},
   "outputs": [
    {
     "data": {
      "text/plain": [
       "<Response [200]>"
      ]
     },
     "execution_count": 60,
     "metadata": {},
     "output_type": "execute_result"
    }
   ],
   "source": [
    "entity = 'accounts'\n",
    "guid = data['accountid']\n",
    "\n",
    "data = {\n",
    "    'name': 'Brown Bag'\n",
    "}\n",
    "\n",
    "response = requests.patch(f'{crmwebapi}/{entity}({guid})', json=data, headers=headers)\n",
    "\n",
    "response"
   ]
  },
  {
   "cell_type": "code",
   "execution_count": 61,
   "metadata": {},
   "outputs": [
    {
     "data": {
      "text/plain": [
       "'Brown Bag'"
      ]
     },
     "execution_count": 61,
     "metadata": {},
     "output_type": "execute_result"
    }
   ],
   "source": [
    "data = response.json()\n",
    "data['name']"
   ]
  },
  {
   "cell_type": "markdown",
   "metadata": {},
   "source": [
    "## Deleting Data"
   ]
  },
  {
   "cell_type": "code",
   "execution_count": 29,
   "metadata": {},
   "outputs": [
    {
     "data": {
      "text/plain": [
       "<Response [204]>"
      ]
     },
     "execution_count": 29,
     "metadata": {},
     "output_type": "execute_result"
    }
   ],
   "source": [
    "entity = 'accounts'\n",
    "guid = '2249ab23-f13d-eb11-a813-000d3a33ff66'\n",
    "\n",
    "requests.delete(f'{crmwebapi}/{entity}({guid})', headers=headers)"
   ]
  },
  {
   "cell_type": "markdown",
   "metadata": {},
   "source": [
    "## Visualizing Data"
   ]
  },
  {
   "cell_type": "code",
   "execution_count": 33,
   "metadata": {},
   "outputs": [
    {
     "data": {
      "text/plain": [
       "<Response [200]>"
      ]
     },
     "execution_count": 33,
     "metadata": {},
     "output_type": "execute_result"
    }
   ],
   "source": [
    "entity = 'opportunities'\n",
    "\n",
    "fetch = '''\n",
    "<fetch mapping='logical' aggregate='true'>\n",
    "    <entity name='opportunity'>\n",
    "        <attribute name='name' alias='opportunity' groupby='true'/>\n",
    "        <attribute name='actualvalue' alias='revenue' aggregate='sum'/>\n",
    "        <order alias=\"revenue\" descending='true'/>\n",
    "    </entity>\n",
    "</fetch>\n",
    "'''\n",
    "\n",
    "response = requests.get(f'{crmwebapi}/{entity}?fetchXml={fetch}', headers=headers)\n",
    "\n",
    "response"
   ]
  },
  {
   "cell_type": "code",
   "execution_count": 34,
   "metadata": {},
   "outputs": [
    {
     "data": {
      "text/html": [
       "<div>\n",
       "<style scoped>\n",
       "    .dataframe tbody tr th:only-of-type {\n",
       "        vertical-align: middle;\n",
       "    }\n",
       "\n",
       "    .dataframe tbody tr th {\n",
       "        vertical-align: top;\n",
       "    }\n",
       "\n",
       "    .dataframe thead th {\n",
       "        text-align: right;\n",
       "    }\n",
       "</style>\n",
       "<table border=\"1\" class=\"dataframe\">\n",
       "  <thead>\n",
       "    <tr style=\"text-align: right;\">\n",
       "      <th></th>\n",
       "      <th>revenue</th>\n",
       "      <th>opportunity</th>\n",
       "    </tr>\n",
       "  </thead>\n",
       "  <tbody>\n",
       "    <tr>\n",
       "      <td>0</td>\n",
       "      <td>14230000.0</td>\n",
       "      <td>Home Appliances Quotation</td>\n",
       "    </tr>\n",
       "    <tr>\n",
       "      <td>1</td>\n",
       "      <td>9230000.0</td>\n",
       "      <td>Orders of Product SKU AX305 this summer</td>\n",
       "    </tr>\n",
       "    <tr>\n",
       "      <td>2</td>\n",
       "      <td>7140000.0</td>\n",
       "      <td>Personal Device Upgrade</td>\n",
       "    </tr>\n",
       "    <tr>\n",
       "      <td>3</td>\n",
       "      <td>6165000.0</td>\n",
       "      <td>GSM Phones</td>\n",
       "    </tr>\n",
       "    <tr>\n",
       "      <td>4</td>\n",
       "      <td>6126000.0</td>\n",
       "      <td>Portable Audio</td>\n",
       "    </tr>\n",
       "    <tr>\n",
       "      <td>5</td>\n",
       "      <td>5136000.0</td>\n",
       "      <td>IOT Laundry Machine Sensors</td>\n",
       "    </tr>\n",
       "    <tr>\n",
       "      <td>6</td>\n",
       "      <td>5035000.0</td>\n",
       "      <td>Computing Lease Renewal</td>\n",
       "    </tr>\n",
       "    <tr>\n",
       "      <td>7</td>\n",
       "      <td>4910000.0</td>\n",
       "      <td>Computer System Upgrade</td>\n",
       "    </tr>\n",
       "    <tr>\n",
       "      <td>8</td>\n",
       "      <td>4910000.0</td>\n",
       "      <td>Very likely will order Product SKU JJ105 this ...</td>\n",
       "    </tr>\n",
       "    <tr>\n",
       "      <td>9</td>\n",
       "      <td>4345000.0</td>\n",
       "      <td>Reinforcement of Equipment</td>\n",
       "    </tr>\n",
       "  </tbody>\n",
       "</table>\n",
       "</div>"
      ],
      "text/plain": [
       "      revenue                                        opportunity\n",
       "0  14230000.0                          Home Appliances Quotation\n",
       "1   9230000.0            Orders of Product SKU AX305 this summer\n",
       "2   7140000.0                            Personal Device Upgrade\n",
       "3   6165000.0                                         GSM Phones\n",
       "4   6126000.0                                     Portable Audio\n",
       "5   5136000.0                        IOT Laundry Machine Sensors\n",
       "6   5035000.0                            Computing Lease Renewal\n",
       "7   4910000.0                            Computer System Upgrade\n",
       "8   4910000.0  Very likely will order Product SKU JJ105 this ...\n",
       "9   4345000.0                         Reinforcement of Equipment"
      ]
     },
     "execution_count": 34,
     "metadata": {},
     "output_type": "execute_result"
    }
   ],
   "source": [
    "data = response.json()\n",
    "df = json_normalize(data['value']).dropna()\n",
    "df.head(10)"
   ]
  },
  {
   "cell_type": "code",
   "execution_count": 37,
   "metadata": {},
   "outputs": [
    {
     "data": {
      "text/plain": [
       "<matplotlib.axes._subplots.AxesSubplot at 0x2e9a3d5bac8>"
      ]
     },
     "execution_count": 37,
     "metadata": {},
     "output_type": "execute_result"
    },
    {
     "data": {
      "image/png": "[encoded data removed]",
      "text/plain": [
       "<Figure size 432x288 with 1 Axes>"
      ]
     },
     "metadata": {
      "needs_background": "light"
     },
     "output_type": "display_data"
    }
   ],
   "source": [
    "import matplotlib.pyplot as plt\n",
    "\n",
    "fig, ax = plt.subplots()\n",
    "\n",
    "df.head(10).plot(kind='bar', x='opportunity', y='revenue', ax=ax)"
   ]
  },
  {
   "cell_type": "markdown",
   "metadata": {},
   "source": [
    "## Emailing Visualizations as Attachments"
   ]
  },
  {
   "cell_type": "code",
   "execution_count": 79,
   "metadata": {},
   "outputs": [
    {
     "data": {
      "text/plain": [
       "'iVBORw0KGgoAAAANSUhEUgAAAXQAAAH5CAYAAACRTcVVAAAABHNCSVQICAgIfAhkiAAAAAlwSFlzAAALEgAACxIB0t1+/AAAADh0...'"
      ]
     },
     "execution_count": 79,
     "metadata": {},
     "output_type": "execute_result"
    }
   ],
   "source": [
    "import io\n",
    "import base64\n",
    "\n",
    "img = io.BytesIO()\n",
    "fig.savefig(img, format='png', bbox_inches='tight')\n",
    "img.seek(0)\n",
    "\n",
    "body = base64.b64encode(img.getvalue())\n",
    "str(body)[2:102] + '...'"
   ]
  },
  {
   "cell_type": "code",
   "execution_count": 43,
   "metadata": {},
   "outputs": [
    {
     "data": {
      "text/plain": [
       "<Response [201]>"
      ]
     },
     "execution_count": 43,
     "metadata": {},
     "output_type": "execute_result"
    }
   ],
   "source": [
    "entity = 'emails'\n",
    "\n",
    "data = {\n",
    "    'description': 'Attached is your summary of opportunities.',\n",
    "    'regardingobjectid_account@odata.bind': '/accounts(e1d6792d-f13d-eb11-a813-000d3a33ff66)',\n",
    "    'subject': 'Top 10 Opportunities by Revenue', \n",
    "    'email_activity_parties': [\n",
    "        {\n",
    "            'partyid_systemuser@odata.bind': '/systemusers(6A1CC046-052D-EB11-A813-000D3A58F769)',\n",
    "            'participationtypemask': 1\n",
    "        },\n",
    "        {\n",
    "            'addressused': 'jpendleton@eimagine.com',\n",
    "            'participationtypemask': 2\n",
    "        }\n",
    "    ]\n",
    "}\n",
    "\n",
    "response = requests.post(f'{crmwebapi}/{entity}', json=data, headers=headers)\n",
    "\n",
    "activityid = response.json()['activityid']\n",
    "\n",
    "response"
   ]
  },
  {
   "cell_type": "code",
   "execution_count": 45,
   "metadata": {},
   "outputs": [
    {
     "data": {
      "text/plain": [
       "'Attached is your summary of opportunities.'"
      ]
     },
     "execution_count": 45,
     "metadata": {},
     "output_type": "execute_result"
    }
   ],
   "source": [
    "data = response.json()\n",
    "data['description']"
   ]
  },
  {
   "cell_type": "code",
   "execution_count": 80,
   "metadata": {
    "scrolled": false
   },
   "outputs": [
    {
     "data": {
      "text/plain": [
       "<Response [201]>"
      ]
     },
     "execution_count": 80,
     "metadata": {},
     "output_type": "execute_result"
    }
   ],
   "source": [
    "entity = 'activitymimeattachments'\n",
    "\n",
    "data = {\n",
    "    'objectid_activitypointer@odata.bind': f'/activitypointers({activityid})',\n",
    "    'body': str(body)[2:-1],\n",
    "    'filename': 'summary.png',\n",
    "    'subject': 'Top 10 Opportunities by Revenue', \n",
    "    'objecttypecode': 'email'\n",
    "}\n",
    "\n",
    "response = requests.post(f'{crmwebapi}/{entity}', json=data, headers=headers)\n",
    "\n",
    "response"
   ]
  },
  {
   "cell_type": "code",
   "execution_count": 81,
   "metadata": {},
   "outputs": [
    {
     "data": {
      "text/plain": [
       "'summary.png'"
      ]
     },
     "execution_count": 81,
     "metadata": {},
     "output_type": "execute_result"
    }
   ],
   "source": [
    "data = response.json()\n",
    "data['filename']"
   ]
  },
  {
   "cell_type": "code",
   "execution_count": 48,
   "metadata": {},
   "outputs": [
    {
     "data": {
      "text/plain": [
       "<Response [200]>"
      ]
     },
     "execution_count": 48,
     "metadata": {},
     "output_type": "execute_result"
    }
   ],
   "source": [
    "entity = 'emails'\n",
    "guid = activityid\n",
    "\n",
    "data = {\n",
    "    'IssueSend': 'true'\n",
    "}\n",
    "\n",
    "response = requests.post(f'{crmwebapi}/{entity}({guid})/Microsoft.Dynamics.CRM.SendEmail', json=data, headers=headers)\n",
    "\n",
    "response"
   ]
  },
  {
   "cell_type": "code",
   "execution_count": 49,
   "metadata": {},
   "outputs": [
    {
     "data": {
      "text/plain": [
       "{'@odata.context': 'https://q9dev.api.crm.dynamics.com/api/data/v9.1/$metadata#Microsoft.Dynamics.CRM.SendEmailResponse',\n",
       " 'Subject': 'Top 10 Opportunities by Revenue CRM:0048001'}"
      ]
     },
     "execution_count": 49,
     "metadata": {},
     "output_type": "execute_result"
    }
   ],
   "source": [
    "data = response.json()\n",
    "data"
   ]
  },
  {
   "cell_type": "code",
   "execution_count": null,
   "metadata": {},
   "outputs": [],
   "source": []
  }
 ],
 "metadata": {
  "kernelspec": {
   "display_name": "Python 3",
   "language": "python",
   "name": "python3"
  },
  "language_info": {
   "codemirror_mode": {
    "name": "ipython",
    "version": 3
   },
   "file_extension": ".py",
   "mimetype": "text/x-python",
   "name": "python",
   "nbconvert_exporter": "python",
   "pygments_lexer": "ipython3",
   "version": "3.7.4"
  }
 },
 "nbformat": 4,
 "nbformat_minor": 2
}
